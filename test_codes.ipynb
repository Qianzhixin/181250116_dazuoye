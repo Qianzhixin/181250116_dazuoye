{
 "cells": [
  {
   "cell_type": "code",
   "execution_count": null,
   "metadata": {},
   "outputs": [],
   "source": [
    "import pandas as pd\n",
    "import matplotlib.pyplot as plt\n",
    "import os\n",
    "import numpy as np\n",
    "import json\n",
    "import urllib.request,urllib.parse"
   ]
  },
  {
   "cell_type": "code",
   "execution_count": null,
   "metadata": {},
   "outputs": [],
   "source": [
    "os.chdir(r'F:\\Homework\\Datascience\\test')"
   ]
  },
  {
   "cell_type": "code",
   "execution_count": null,
   "metadata": {},
   "outputs": [],
   "source": [
    "f =  open('test_data.json',encoding = 'utf-8')\n",
    "f_read = f.read()"
   ]
  },
  {
   "cell_type": "code",
   "execution_count": null,
   "metadata": {},
   "outputs": [],
   "source": [
    "data = json.loads(f_read)"
   ]
  },
  {
   "cell_type": "code",
   "execution_count": null,
   "metadata": {},
   "outputs": [],
   "source": [
    "type(data)"
   ]
  },
  {
   "cell_type": "code",
   "execution_count": null,
   "metadata": {
    "scrolled": true
   },
   "outputs": [],
   "source": [
    "len(data.keys())"
   ]
  },
  {
   "cell_type": "code",
   "execution_count": null,
   "metadata": {},
   "outputs": [],
   "source": [
    "# json_data = \n",
    "# with open('dizhi','w',encoding) as f:\n",
    "#      json.dump(json_data,f,indent = 0)\n",
    "# f.close()"
   ]
  },
  {
   "cell_type": "code",
   "execution_count": null,
   "metadata": {},
   "outputs": [],
   "source": [
    "# for key in data.keys():\n",
    "#     for i in range(0,len(data[key]['cases'])):\n",
    "#         print(data[key]['cases'][i]['case_type'])"
   ]
  },
  {
   "cell_type": "code",
   "execution_count": null,
   "metadata": {
    "scrolled": true
   },
   "outputs": [],
   "source": [
    "# count = 0\n",
    "# list_1 = [[] for i in range(len(data.keys()))]\n",
    "# list_2 = []\n",
    "# for key in data.keys():\n",
    "#     for i in range(0,len(data[key]['cases'][0]['upload_records'])):\n",
    "# #         print(data[key]['cases'][0]['upload_records'][i]['score'])\n",
    "#         list_1[count].append(data[key]['cases'][0]['upload_records'][i]['score'])\n",
    "#     if data[key]['cases'][0]['case_type'] == '字符串':\n",
    "#          list_2.append('Character string')\n",
    "#     elif data[key]['cases'][0]['case_type'] == '线性表':\n",
    "#           list_2.append('Linear table')\n",
    "#     elif data[key]['cases'][0]['case_type'] == '数组':\n",
    "#           list_2.append('Array')\n",
    "#     elif data[key]['cases'][0]['case_type'] == '查找算法':\n",
    "#           list_2.append('Search algorithm')\n",
    "#     elif data[key]['cases'][0]['case_type'] == '数字操作':\n",
    "#           list_2.append('Digital operation')\n",
    "#     elif data[key]['cases'][0]['case_type'] == '图结构':\n",
    "#           list_2.append('Graph structure')\n",
    "#     elif data[key]['cases'][0]['case_type'] == '排序算法':\n",
    "#           list_2.append('Sorting algorithm')\n",
    "#     elif data[key]['cases'][0]['case_type'] == '树结构':\n",
    "#           list_2.append('Tree structure')\n",
    "#     count = count +1"
   ]
  },
  {
   "cell_type": "code",
   "execution_count": null,
   "metadata": {},
   "outputs": [],
   "source": [
    "# for j in range(0,len(list_1)):\n",
    "#     x =[]\n",
    "#     for i in range(1,len(list_1[j])+1,1):\n",
    "#                x.append(i)\n",
    "#     y = list_1[j]\n",
    "#     plt.scatter(x,y,color = 'red',linewidth = 2)\n",
    "#     plt.xlabel('Times')\n",
    "#     plt.ylabel('grade')\n",
    "#     plt.title('This is {} NO.{} grade Scatter plot'.format(list_2[j],j+1))   \n",
    "#     plt.show()"
   ]
  },
  {
   "cell_type": "code",
   "execution_count": null,
   "metadata": {},
   "outputs": [],
   "source": [
    "json_data = data['49405']\n",
    "with open(r'F:\\Homework\\Datascience\\test\\49405的提交记录.json','w') as f:\n",
    "     json.dump(json_data,f,indent = 0)\n",
    "f.close()"
   ]
  },
  {
   "cell_type": "code",
   "execution_count": 106,
   "metadata": {},
   "outputs": [
    {
     "data": {
      "text/plain": [
       "154"
      ]
     },
     "execution_count": 106,
     "metadata": {},
     "output_type": "execute_result"
    }
   ],
   "source": [
    "len(data['48117']['cases'])"
   ]
  },
  {
   "cell_type": "code",
   "execution_count": 107,
   "metadata": {},
   "outputs": [],
   "source": [
    "list_01 = [[] for i in range(len(data['48117']['cases']))]\n",
    "list_02 = []\n",
    "\n",
    "for i in range(0,len(data['48117']['cases'])):\n",
    "    for j in range(0,len(data['48117']['cases'][i]['upload_records'])):\n",
    "         list_01[i].append(data['48117']['cases'][i]['upload_records'][j]['score'])\n",
    "    if data['48117']['cases'][i]['case_type'] == '字符串':\n",
    "         list_02.append('Character string')\n",
    "    elif data['48117']['cases'][i]['case_type'] == '线性表':\n",
    "          list_02.append('Linear table')\n",
    "    elif data['48117']['cases'][i]['case_type'] == '数组':\n",
    "          list_02.append('Array')\n",
    "    elif data['48117']['cases'][i]['case_type'] == '查找算法':\n",
    "          list_02.append('Search algorithm')\n",
    "    elif data['48117']['cases'][i]['case_type'] == '数字操作':\n",
    "          list_02.append('Digital operation')\n",
    "    elif data['48117']['cases'][i]['case_type'] == '图结构':\n",
    "          list_02.append('Graph structure')\n",
    "    elif data['48117']['cases'][i]['case_type'] == '排序算法':\n",
    "          list_02.append('Sorting algorithm')\n",
    "    elif data['48117']['cases'][i]['case_type'] == '树结构':\n",
    "          list_02.append('Tree structure')"
   ]
  },
  {
   "cell_type": "code",
   "execution_count": 108,
   "metadata": {},
   "outputs": [],
   "source": [
    "list_03 = []\n",
    "list_04 = []\n",
    "list_05 = []\n",
    "list_06 = []\n",
    "for i in range(0,len(data['48117']['cases'])):\n",
    "    list_03.append(len(data['48117']['cases'][i]['upload_records']))\n",
    "    list_04.append(data['48117']['cases'][i]['final_score'])   \n",
    "    list_05.append(data['48117']['cases'][i]['case_id'])\n",
    "    list_06.append(data['48117']['cases'][i]['case_type'])"
   ]
  },
  {
   "cell_type": "code",
   "execution_count": null,
   "metadata": {},
   "outputs": [],
   "source": [
    "list_01"
   ]
  },
  {
   "cell_type": "code",
   "execution_count": null,
   "metadata": {},
   "outputs": [],
   "source": [
    "list_03"
   ]
  },
  {
   "cell_type": "code",
   "execution_count": null,
   "metadata": {},
   "outputs": [],
   "source": [
    "list_06"
   ]
  },
  {
   "cell_type": "code",
   "execution_count": null,
   "metadata": {},
   "outputs": [],
   "source": [
    "list_02"
   ]
  },
  {
   "cell_type": "code",
   "execution_count": 109,
   "metadata": {},
   "outputs": [
    {
     "data": {
      "text/plain": [
       "154"
      ]
     },
     "execution_count": 109,
     "metadata": {},
     "output_type": "execute_result"
    }
   ],
   "source": [
    "len(list_03)"
   ]
  },
  {
   "cell_type": "code",
   "execution_count": null,
   "metadata": {},
   "outputs": [],
   "source": [
    "for j in range(0,len(list_01)):\n",
    "    x =[]\n",
    "    for i in range(1,len(list_01[j])+1,1):\n",
    "               x.append(i)\n",
    "    y = list_01[j]\n",
    "#     plt.scatter(x,y,color = 'red',linewidth = 2)\n",
    "    plt.plot(x,y,color = 'red',linewidth = 2)\n",
    "    plt.xlabel('Times')\n",
    "    plt.ylabel('grade')\n",
    "    plt.title('This is NO.{} {} grade Scatter plot'.format(j+1,list_02[j]))   \n",
    "    plt.show()"
   ]
  },
  {
   "cell_type": "code",
   "execution_count": null,
   "metadata": {},
   "outputs": [],
   "source": [
    "data_01 = pd.DataFrame([list_06,list_03,list_04],index=['题目类型','提交次数','最终得分'],columns = list_05)\n",
    "data_01"
   ]
  },
  {
   "cell_type": "code",
   "execution_count": null,
   "metadata": {},
   "outputs": [],
   "source": [
    "# for j in range(0,len(list_03)):\n",
    "#     x =[]\n",
    "#     for i in range(list_10[i],list_10[i+1],1):\n",
    "#                x.append(j)\n",
    "#     y = list_04[j]\n",
    "# #     plt.scatter(x,y,color = 'red',linewidth = 2)\n",
    "#     plt.plot(x,y,color = 'red',linewidth = 2)\n",
    "#     plt.xlabel('Times')\n",
    "#     plt.ylabel('grade')\n",
    "#     plt.title('This is NO.{} {} grade Scatter plot'.format(j+1,list_02[j]))   \n",
    "#     plt.show()"
   ]
  },
  {
   "cell_type": "code",
   "execution_count": null,
   "metadata": {},
   "outputs": [],
   "source": [
    "data_02 = pd.DataFrame([list_06[0:10],list_03[0:10],list_04[0:10]],index=['题目类型','提交次数','最终得分'],columns = list_05[0:10])\n",
    "data_02"
   ]
  },
  {
   "cell_type": "code",
   "execution_count": null,
   "metadata": {},
   "outputs": [],
   "source": [
    "data_03 = pd.DataFrame([list_06[10:20],list_03[10:20],list_04[10:20]],index=['题目类型','提交次数','最终得分'],columns = list_05[10:20])\n",
    "data_03"
   ]
  },
  {
   "cell_type": "code",
   "execution_count": null,
   "metadata": {},
   "outputs": [],
   "source": [
    "data_04 = pd.DataFrame([list_06[20:30],list_03[20:30],list_04[20:30]],index=['题目类型','提交次数','最终得分'],columns = list_05[20:30])\n",
    "data_04"
   ]
  },
  {
   "cell_type": "code",
   "execution_count": null,
   "metadata": {},
   "outputs": [],
   "source": [
    "data_05 = pd.DataFrame([list_06[30:40],list_03[30:40],list_04[30:40]],index=['题目类型','提交次数','最终得分'],columns = list_05[30:40])\n",
    "data_05"
   ]
  },
  {
   "cell_type": "code",
   "execution_count": null,
   "metadata": {},
   "outputs": [],
   "source": [
    "data_06 = pd.DataFrame([list_06[40:50],list_03[40:50],list_04[40:50]],index=['题目类型','提交次数','最终得分'],columns = list_05[40:50])\n",
    "data_06"
   ]
  },
  {
   "cell_type": "code",
   "execution_count": null,
   "metadata": {},
   "outputs": [],
   "source": [
    "data_07 = pd.DataFrame([list_06[50:60],list_03[50:60],list_04[50:60]],index=['题目类型','提交次数','最终得分'],columns = list_05[50:60])\n",
    "data_07"
   ]
  },
  {
   "cell_type": "code",
   "execution_count": null,
   "metadata": {},
   "outputs": [],
   "source": [
    "data_08 = pd.DataFrame([list_06[60:70],list_03[60:70],list_04[60:70]],index=['题目类型','提交次数','最终得分'],columns = list_05[60:70])\n",
    "data_08"
   ]
  },
  {
   "cell_type": "code",
   "execution_count": null,
   "metadata": {},
   "outputs": [],
   "source": [
    "data_09 = pd.DataFrame([list_06[70:80],list_03[70:80],list_04[70:80]],index=['题目类型','提交次数','最终得分'],columns = list_05[70:80])\n",
    "data_09"
   ]
  },
  {
   "cell_type": "code",
   "execution_count": null,
   "metadata": {},
   "outputs": [],
   "source": [
    "data_10 = pd.DataFrame([list_06[80:90],list_03[80:90],list_04[80:90]],index=['题目类型','提交次数','最终得分'],columns = list_05[80:90])\n",
    "data_10"
   ]
  },
  {
   "cell_type": "code",
   "execution_count": null,
   "metadata": {},
   "outputs": [],
   "source": [
    "data_11 = pd.DataFrame([list_06[90:100],list_03[90:100],list_04[90:100]],index=['题目类型','提交次数','最终得分'],columns = list_05[90:100])\n",
    "data_11"
   ]
  },
  {
   "cell_type": "code",
   "execution_count": null,
   "metadata": {},
   "outputs": [],
   "source": [
    "data_12 = pd.DataFrame([list_06[100:110],list_03[100:110],list_04[100:110]],index=['题目类型','提交次数','最终得分'],columns = list_05[100:110])\n",
    "data_12"
   ]
  },
  {
   "cell_type": "code",
   "execution_count": null,
   "metadata": {},
   "outputs": [],
   "source": [
    "data_13 = pd.DataFrame([list_06[110:120],list_03[110:120],list_04[110:120]],index=['题目类型','提交次数','最终得分'],columns = list_05[110:120])\n",
    "data_13"
   ]
  },
  {
   "cell_type": "code",
   "execution_count": null,
   "metadata": {},
   "outputs": [],
   "source": [
    "data_14 = pd.DataFrame([list_06[120:130],list_03[120:130],list_04[120:130]],index=['题目类型','提交次数','最终得分'],columns = list_05[120:130])\n",
    "data_14"
   ]
  },
  {
   "cell_type": "code",
   "execution_count": null,
   "metadata": {},
   "outputs": [],
   "source": [
    "data_15 = pd.DataFrame([list_06[130:140],list_03[130:140],list_04[130:140]],index=['题目类型','提交次数','最终得分'],columns = list_05[130:140])\n",
    "data_15"
   ]
  },
  {
   "cell_type": "code",
   "execution_count": null,
   "metadata": {},
   "outputs": [],
   "source": [
    "data_16 = pd.DataFrame([list_06[140:150],list_03[140:150],list_04[140:150]],index=['题目类型','提交次数','最终得分'],columns = list_05[140:150])\n",
    "data_16"
   ]
  },
  {
   "cell_type": "code",
   "execution_count": null,
   "metadata": {},
   "outputs": [],
   "source": [
    "data_17 = pd.DataFrame([list_06[150:160],list_03[150:160],list_04[150:160]],index=['题目类型','提交次数','最终得分'],columns = list_05[150:160])\n",
    "data_17"
   ]
  },
  {
   "cell_type": "code",
   "execution_count": null,
   "metadata": {},
   "outputs": [],
   "source": [
    "data_18 = pd.DataFrame([list_06[160:170],list_03[160:170],list_04[160:170]],index=['题目类型','提交次数','最终得分'],columns = list_05[160:170])\n",
    "data_18"
   ]
  },
  {
   "cell_type": "code",
   "execution_count": null,
   "metadata": {},
   "outputs": [],
   "source": [
    "data_19 = pd.DataFrame([list_06[170:180],list_03[170:180],list_04[170:180]],index=['题目类型','提交次数','最终得分'],columns = list_05[170:180])\n",
    "data_19"
   ]
  },
  {
   "cell_type": "code",
   "execution_count": null,
   "metadata": {},
   "outputs": [],
   "source": [
    "data_20 = pd.DataFrame([list_06[180:190],list_03[180:190],list_04[180:190]],index=['题目类型','提交次数','最终得分'],columns = list_05[180:190])\n",
    "data_20"
   ]
  },
  {
   "cell_type": "code",
   "execution_count": null,
   "metadata": {},
   "outputs": [],
   "source": [
    "data_21 = pd.DataFrame([list_06[190:200],list_03[190:200],list_04[190:200]],index=['题目类型','提交次数','最终得分'],columns = list_05[190:200])\n",
    "data_21"
   ]
  },
  {
   "cell_type": "code",
   "execution_count": 110,
   "metadata": {},
   "outputs": [],
   "source": [
    "\n",
    "list_08 = []\n",
    "list_09 = []\n",
    "list_10 = [0]"
   ]
  },
  {
   "cell_type": "code",
   "execution_count": 111,
   "metadata": {},
   "outputs": [],
   "source": [
    "list_07 = []\n",
    "list_07.append(list_06[0])\n",
    "for i in range(0,len(list_06)-1):    \n",
    "    if(list_06[i] == list_06[i+1]):\n",
    "        continue\n",
    "    else:\n",
    "        list_07.append(list_06[i+1])\n",
    "        list_10.append(i+1)\n",
    "list_10.append(len(list_06))     "
   ]
  },
  {
   "cell_type": "code",
   "execution_count": 112,
   "metadata": {},
   "outputs": [],
   "source": [
    "for i in range(0,len(list_07)):\n",
    "    sum = 0\n",
    "    for j in range(list_10[i],list_10[i+1],1):\n",
    "        sum =  sum + list_03[j]\n",
    "    list_08.append(sum)"
   ]
  },
  {
   "cell_type": "code",
   "execution_count": 113,
   "metadata": {},
   "outputs": [
    {
     "data": {
      "text/plain": [
       "['字符串', '线性表', '数组', '查找算法', '排序算法', '数字操作', '图结构']"
      ]
     },
     "execution_count": 113,
     "metadata": {},
     "output_type": "execute_result"
    }
   ],
   "source": [
    "list_07"
   ]
  },
  {
   "cell_type": "code",
   "execution_count": 114,
   "metadata": {},
   "outputs": [
    {
     "data": {
      "text/plain": [
       "[0, 15, 44, 89, 106, 116, 148, 154]"
      ]
     },
     "execution_count": 114,
     "metadata": {},
     "output_type": "execute_result"
    }
   ],
   "source": [
    "list_10"
   ]
  },
  {
   "cell_type": "code",
   "execution_count": 115,
   "metadata": {},
   "outputs": [
    {
     "data": {
      "text/plain": [
       "[278, 132, 261, 98, 38, 96, 77]"
      ]
     },
     "execution_count": 115,
     "metadata": {},
     "output_type": "execute_result"
    }
   ],
   "source": [
    "list_08"
   ]
  },
  {
   "cell_type": "code",
   "execution_count": 116,
   "metadata": {},
   "outputs": [],
   "source": [
    "for i in range(0,len(list_07)):\n",
    "    list_09.append(list_08[i]/(list_10[i+1]-list_10[i]))"
   ]
  },
  {
   "cell_type": "code",
   "execution_count": 117,
   "metadata": {},
   "outputs": [
    {
     "data": {
      "text/plain": [
       "[18.533333333333335,\n",
       " 4.551724137931035,\n",
       " 5.8,\n",
       " 5.764705882352941,\n",
       " 3.8,\n",
       " 3.0,\n",
       " 12.833333333333334]"
      ]
     },
     "execution_count": 117,
     "metadata": {},
     "output_type": "execute_result"
    }
   ],
   "source": [
    "list_09"
   ]
  },
  {
   "cell_type": "code",
   "execution_count": 118,
   "metadata": {},
   "outputs": [],
   "source": [
    "list_11 = []\n",
    "list_12 = []"
   ]
  },
  {
   "cell_type": "code",
   "execution_count": 119,
   "metadata": {},
   "outputs": [],
   "source": [
    "for i in range(0,len(list_07)):\n",
    "    sum = 0\n",
    "    for j in range(list_10[i],list_10[i+1],1):\n",
    "        sum =  sum + list_04[j]\n",
    "    list_11.append(sum)\n",
    "for i in range(0,len(list_07)):\n",
    "    list_12.append(list_11[i]/(list_10[i+1]-list_10[i]))"
   ]
  },
  {
   "cell_type": "code",
   "execution_count": 120,
   "metadata": {},
   "outputs": [
    {
     "data": {
      "text/plain": [
       "[93.33333333333333,\n",
       " 97.41379310344827,\n",
       " 97.77777777777777,\n",
       " 100.0,\n",
       " 100.0,\n",
       " 96.875,\n",
       " 83.33333333333333]"
      ]
     },
     "execution_count": 120,
     "metadata": {},
     "output_type": "execute_result"
    }
   ],
   "source": [
    "list_12"
   ]
  },
  {
   "cell_type": "code",
   "execution_count": 121,
   "metadata": {},
   "outputs": [
    {
     "data": {
      "text/html": [
       "<div>\n",
       "<style scoped>\n",
       "    .dataframe tbody tr th:only-of-type {\n",
       "        vertical-align: middle;\n",
       "    }\n",
       "\n",
       "    .dataframe tbody tr th {\n",
       "        vertical-align: top;\n",
       "    }\n",
       "\n",
       "    .dataframe thead th {\n",
       "        text-align: right;\n",
       "    }\n",
       "</style>\n",
       "<table border=\"1\" class=\"dataframe\">\n",
       "  <thead>\n",
       "    <tr style=\"text-align: right;\">\n",
       "      <th></th>\n",
       "      <th>1</th>\n",
       "      <th>2</th>\n",
       "      <th>3</th>\n",
       "      <th>4</th>\n",
       "      <th>5</th>\n",
       "      <th>6</th>\n",
       "      <th>7</th>\n",
       "    </tr>\n",
       "  </thead>\n",
       "  <tbody>\n",
       "    <tr>\n",
       "      <th>题目类型</th>\n",
       "      <td>字符串</td>\n",
       "      <td>线性表</td>\n",
       "      <td>数组</td>\n",
       "      <td>查找算法</td>\n",
       "      <td>排序算法</td>\n",
       "      <td>数字操作</td>\n",
       "      <td>图结构</td>\n",
       "    </tr>\n",
       "    <tr>\n",
       "      <th>提交平均次数</th>\n",
       "      <td>18.5333</td>\n",
       "      <td>4.55172</td>\n",
       "      <td>5.8</td>\n",
       "      <td>5.76471</td>\n",
       "      <td>3.8</td>\n",
       "      <td>3</td>\n",
       "      <td>12.8333</td>\n",
       "    </tr>\n",
       "    <tr>\n",
       "      <th>平均得分</th>\n",
       "      <td>93.3333</td>\n",
       "      <td>97.4138</td>\n",
       "      <td>97.7778</td>\n",
       "      <td>100</td>\n",
       "      <td>100</td>\n",
       "      <td>96.875</td>\n",
       "      <td>83.3333</td>\n",
       "    </tr>\n",
       "  </tbody>\n",
       "</table>\n",
       "</div>"
      ],
      "text/plain": [
       "              1        2        3        4     5       6        7\n",
       "题目类型        字符串      线性表       数组     查找算法  排序算法    数字操作      图结构\n",
       "提交平均次数  18.5333  4.55172      5.8  5.76471   3.8       3  12.8333\n",
       "平均得分    93.3333  97.4138  97.7778      100   100  96.875  83.3333"
      ]
     },
     "execution_count": 121,
     "metadata": {},
     "output_type": "execute_result"
    }
   ],
   "source": [
    "data_22 = pd.DataFrame([list_07,list_09,list_12],index=['题目类型','提交平均次数','平均得分'],columns = ['1','2','3','4','5','6','7'])\n",
    "data_22"
   ]
  },
  {
   "cell_type": "code",
   "execution_count": 122,
   "metadata": {},
   "outputs": [
    {
     "data": {
      "image/png": "[encoded data removed]",
      "text/plain": [
       "<Figure size 432x288 with 1 Axes>"
      ]
     },
     "metadata": {
      "needs_background": "light"
     },
     "output_type": "display_data"
    }
   ],
   "source": [
    "\n",
    "x=[]\n",
    "y=[]\n",
    "x = ['1','2','3','4','5','6','7']\n",
    "y = list_12\n",
    "plt.plot(x,y,color = 'red',linewidth = 2)\n",
    "plt.xlabel('Types')\n",
    "plt.ylabel('Grade')\n",
    "plt.title('This is a grade plot')   \n",
    "plt.show()"
   ]
  },
  {
   "cell_type": "code",
   "execution_count": 123,
   "metadata": {},
   "outputs": [
    {
     "data": {
      "image/png": "[encoded data removed]",
      "text/plain": [
       "<Figure size 432x288 with 1 Axes>"
      ]
     },
     "metadata": {
      "needs_background": "light"
     },
     "output_type": "display_data"
    }
   ],
   "source": [
    "x=[]\n",
    "y=[]\n",
    "x = ['1','2','3','4','5','6','7']\n",
    "y = list_09\n",
    "plt.plot(x,y,color = 'red',linewidth = 2)\n",
    "plt.xlabel('Types')\n",
    "plt.ylabel('Times')\n",
    "plt.title('This is a grade plot')   \n",
    "plt.show()"
   ]
  },
  {
   "cell_type": "code",
   "execution_count": null,
   "metadata": {},
   "outputs": [],
   "source": []
  }
 ],
 "metadata": {
  "kernelspec": {
   "display_name": "Python 3",
   "language": "python",
   "name": "python3"
  },
  "language_info": {
   "codemirror_mode": {
    "name": "ipython",
    "version": 3
   },
   "file_extension": ".py",
   "mimetype": "text/x-python",
   "name": "python",
   "nbconvert_exporter": "python",
   "pygments_lexer": "ipython3",
   "version": "3.7.6"
  }
 },
 "nbformat": 4,
 "nbformat_minor": 4
}
